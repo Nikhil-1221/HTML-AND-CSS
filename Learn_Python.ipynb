{
  "nbformat": 4,
  "nbformat_minor": 0,
  "metadata": {
    "colab": {
      "provenance": [],
      "authorship_tag": "ABX9TyNVrfI7+T44FDy1bYtQZli0",
      "include_colab_link": true
    },
    "kernelspec": {
      "name": "python3",
      "display_name": "Python 3"
    },
    "language_info": {
      "name": "python"
    }
  },
  "cells": [
    {
      "cell_type": "markdown",
      "metadata": {
        "id": "view-in-github",
        "colab_type": "text"
      },
      "source": [
        "<a href=\"https://colab.research.google.com/github/Shivam12220371/Html-and-css/blob/main/Learn_Python.ipynb\" target=\"_parent\"><img src=\"https://colab.research.google.com/assets/colab-badge.svg\" alt=\"Open In Colab\"/></a>"
      ]
    },
    {
      "cell_type": "code",
      "execution_count": null,
      "metadata": {
        "colab": {
          "base_uri": "https://localhost:8080/"
        },
        "id": "WpTkJiwrOA_v",
        "outputId": "b2a67a70-edbc-46c9-f9ba-34b463c90546"
      },
      "outputs": [
        {
          "output_type": "stream",
          "name": "stdout",
          "text": [
            "0.08072286534465611\n"
          ]
        }
      ],
      "source": [
        "import random\n",
        "print(random.random())"
      ]
    },
    {
      "cell_type": "code",
      "source": [
        "import random\n",
        "print(random.randint(1,5))"
      ],
      "metadata": {
        "colab": {
          "base_uri": "https://localhost:8080/"
        },
        "id": "krssCFWNT5-j",
        "outputId": "6f435ca5-91a5-4c82-b437-374453ddba28"
      },
      "execution_count": null,
      "outputs": [
        {
          "output_type": "stream",
          "name": "stdout",
          "text": [
            "1\n"
          ]
        }
      ]
    },
    {
      "cell_type": "code",
      "source": [
        "#string operation\n",
        "#cliping\n",
        "b =\"cipher class\"\n",
        "print(b[2:5])"
      ],
      "metadata": {
        "colab": {
          "base_uri": "https://localhost:8080/"
        },
        "id": "32uZ7OruUeGS",
        "outputId": "0854d076-1aae-4913-dbe3-a0bf9fb7d5d8"
      },
      "execution_count": null,
      "outputs": [
        {
          "output_type": "stream",
          "name": "stdout",
          "text": [
            "phe\n"
          ]
        }
      ]
    },
    {
      "cell_type": "code",
      "source": [
        "a =\"cipher\"\n",
        "b =\"school\"\n",
        "print(a)\n",
        "print(b)\n",
        "print(a +\" \"+b)"
      ],
      "metadata": {
        "colab": {
          "base_uri": "https://localhost:8080/"
        },
        "id": "ekjhDYM7Uysj",
        "outputId": "9cb8fa23-5b32-42c7-85a5-842493e56381"
      },
      "execution_count": null,
      "outputs": [
        {
          "output_type": "stream",
          "name": "stdout",
          "text": [
            "cipher\n",
            "school\n",
            "cipher school\n"
          ]
        }
      ]
    },
    {
      "cell_type": "code",
      "source": [
        "age =40\n",
        "sent =\"My name is something and my age is {}\"\n",
        "print(sent.format(age))"
      ],
      "metadata": {
        "colab": {
          "base_uri": "https://localhost:8080/"
        },
        "id": "ZlAsAMI-VKH0",
        "outputId": "f43e3cc2-dd2e-436c-b3ec-b649bcd88c8c"
      },
      "execution_count": null,
      "outputs": [
        {
          "output_type": "stream",
          "name": "stdout",
          "text": [
            "My name is something and my age is 40\n"
          ]
        }
      ]
    },
    {
      "cell_type": "code",
      "source": [
        "#list\n",
        "col =['Manoj', 'kiran', 'shivam', 'ayush']\n",
        "col.append(\"Akansha\")\n",
        "col.insert(2, \"Janu\")\n",
        "print(col)\n",
        "print(type(col))"
      ],
      "metadata": {
        "colab": {
          "base_uri": "https://localhost:8080/"
        },
        "id": "5SS2RGRmV9T0",
        "outputId": "1be4a7b8-5d99-4124-a5c5-4085b5e6f2ff"
      },
      "execution_count": null,
      "outputs": [
        {
          "output_type": "stream",
          "name": "stdout",
          "text": [
            "['Manoj', 'kiran', 'Janu', 'shivam', 'ayush', 'Akansha']\n",
            "<class 'list'>\n"
          ]
        }
      ]
    },
    {
      "cell_type": "code",
      "source": [
        "#loop\n",
        "i = 1\n",
        "while i < 10:\n",
        "  print(i)\n",
        "  i = i+1"
      ],
      "metadata": {
        "colab": {
          "base_uri": "https://localhost:8080/"
        },
        "id": "kb99EPfEYxjK",
        "outputId": "d04cd50c-e0a4-4fd1-c88f-ec474ecfe759"
      },
      "execution_count": null,
      "outputs": [
        {
          "output_type": "stream",
          "name": "stdout",
          "text": [
            "1\n",
            "2\n",
            "3\n",
            "4\n",
            "5\n",
            "6\n",
            "7\n",
            "8\n",
            "9\n"
          ]
        }
      ]
    },
    {
      "cell_type": "code",
      "source": [
        "#loop & break\n",
        "i = 1\n",
        "while i < 10:\n",
        "  print(i)\n",
        "  if i == 3:\n",
        "    break\n",
        "  i = i+1\n"
      ],
      "metadata": {
        "colab": {
          "base_uri": "https://localhost:8080/"
        },
        "id": "GotU02pJZD85",
        "outputId": "56328183-d47e-4dca-8f3a-4598be4f523b"
      },
      "execution_count": null,
      "outputs": [
        {
          "output_type": "stream",
          "name": "stdout",
          "text": [
            "1\n",
            "2\n",
            "3\n"
          ]
        }
      ]
    },
    {
      "cell_type": "code",
      "source": [
        "#Rock paper scissors\n",
        "import random\n",
        "print(\"Welcome to the RPS game\")\n",
        "uC = input(\"Enter a either Rock or Paper or Scissors\")\n",
        "cI = [\"Rock\", \"Paper\", \"Scissors\"] #cI- computer information, cC- computer choice\n",
        "cC = random.choice(cI)\n",
        "print(cC)"
      ],
      "metadata": {
        "colab": {
          "base_uri": "https://localhost:8080/"
        },
        "id": "OI5fcgGiZ4t1",
        "outputId": "aa1d00ac-3d91-48b1-ceef-433e5d187034"
      },
      "execution_count": null,
      "outputs": [
        {
          "metadata": {
            "tags": null
          },
          "name": "stdout",
          "output_type": "stream",
          "text": [
            "Welcome to the RPS game\n"
          ]
        }
      ]
    },
    {
      "cell_type": "code",
      "source": [
        "number1 = 20.50\n",
        "number2 = 38.25\n",
        "print(number1 * number2)\n",
        "string1 = \"Amazon\"\n",
        "string2 = \"River\"\n",
        "print(string1 + string2)"
      ],
      "metadata": {
        "colab": {
          "base_uri": "https://localhost:8080/"
        },
        "id": "-lmcrOkYZmKx",
        "outputId": "dbb86b2b-c2d9-494f-d152-df42523c3939"
      },
      "execution_count": null,
      "outputs": [
        {
          "output_type": "stream",
          "name": "stdout",
          "text": [
            "784.125\n",
            "AmazonRiver\n"
          ]
        }
      ]
    },
    {
      "cell_type": "code",
      "source": [
        "age = 62\n",
        "\n",
        "if age >= 60:\n",
        "  print(True)\n",
        "else:\n",
        "  print(False)"
      ],
      "metadata": {
        "id": "Zy89dSZDusF3",
        "colab": {
          "base_uri": "https://localhost:8080/"
        },
        "outputId": "f34fcd15-4098-4fe8-ba3b-d51eb252c961"
      },
      "execution_count": null,
      "outputs": [
        {
          "output_type": "stream",
          "name": "stdout",
          "text": [
            "True\n"
          ]
        }
      ]
    },
    {
      "cell_type": "code",
      "source": [
        "from IPython.core import interactiveshell\n",
        "n =int(input())\n",
        "m =int(input())\n",
        "k =int(n/m)\n",
        "print(k)"
      ],
      "metadata": {
        "colab": {
          "base_uri": "https://localhost:8080/"
        },
        "id": "LOj_dzNbxoRl",
        "outputId": "3341e7a4-1522-4a48-aee8-f075bcef2f4f"
      },
      "execution_count": null,
      "outputs": [
        {
          "output_type": "stream",
          "name": "stdout",
          "text": [
            "100\n",
            "3\n",
            "33\n"
          ]
        }
      ]
    },
    {
      "cell_type": "code",
      "source": [
        "# Rock paper scissor\n",
        "import random\n",
        "\n",
        "user_choice = input(\"Enter a choice (rock, paper, scissors): \")\n",
        "possible_actions = [\"rock\", \"paper\", \"scissors\"]\n",
        "computer_choice = random.choice(possible_actions)\n",
        "print(f\"\\nYou chose {user_choice}, computer chose {computer_choice}.\\n\")\n",
        "\n",
        "if user_choice == computer_choice:\n",
        "  print(f\"Both players selected {user_choice}. its a tie!\")\n",
        "elif user_choice == \"rock\":\n",
        "   if computer_choice == \"scissors\":\n",
        "     print(\"Rock smashes scissors! You win!\")\n",
        "   else:\n",
        "     print(\"Paper covers rock! You lose.\")\n",
        "elif user_choice == \"paper\":\n",
        "  if computer_choice == \"rock\":\n",
        "    print(\"Paper covers rock! You win!\")\n",
        "  else:\n",
        "    print(\"Scissors cuts paper! You lose.\")\n",
        "elif user_choice == \"scissors\":\n",
        "  if computer_choice == \"paper\":\n",
        "    print(\"Scissors cuts paper! You win!\")\n",
        "  else:\n",
        "    print(\"Rock smashes scissors! You lose.\")\n"
      ],
      "metadata": {
        "colab": {
          "base_uri": "https://localhost:8080/"
        },
        "id": "3JxNWOCjfulq",
        "outputId": "59153d0e-9cd9-4547-8699-50f8927822e0"
      },
      "execution_count": null,
      "outputs": [
        {
          "output_type": "stream",
          "name": "stdout",
          "text": [
            "Enter a choice (rock, paper, scissors): rock\n",
            "\n",
            "You chose rock, computer chose rock.\n",
            "\n",
            "Both players selected rock. its a tie!\n"
          ]
        }
      ]
    },
    {
      "cell_type": "code",
      "source": [
        "import math\n",
        "a = min(1,2,3)\n",
        "b = max(1,2,3)\n",
        "c = math.floor(2.1)\n",
        "d = math.ceil(2.1)\n",
        "print(c)\n",
        "print(d)\n"
      ],
      "metadata": {
        "colab": {
          "base_uri": "https://localhost:8080/"
        },
        "id": "QlVAOJ-mpX-l",
        "outputId": "cfd1d0a8-f2f9-4058-f82f-9abd4be41ccb"
      },
      "execution_count": null,
      "outputs": [
        {
          "output_type": "stream",
          "name": "stdout",
          "text": [
            "2\n",
            "3\n"
          ]
        }
      ]
    },
    {
      "cell_type": "code",
      "source": [
        "student = [\"Shivam\",\"Anurag\",\"Ayush\"]\n",
        "for i in student:\n",
        "  print(i)"
      ],
      "metadata": {
        "colab": {
          "base_uri": "https://localhost:8080/"
        },
        "id": "IO7mMyPRvgis",
        "outputId": "33a3c20f-227f-46e0-fcc2-2c03e7c86b5a"
      },
      "execution_count": null,
      "outputs": [
        {
          "output_type": "stream",
          "name": "stdout",
          "text": [
            "Shivam\n",
            "Anurag\n",
            "Ayush\n"
          ]
        }
      ]
    },
    {
      "cell_type": "code",
      "source": [
        "for i in \"Shivam\":\n",
        "  print(i)"
      ],
      "metadata": {
        "colab": {
          "base_uri": "https://localhost:8080/"
        },
        "id": "roClDUL-uDDR",
        "outputId": "ea66d9cb-decc-449d-9ab0-02c45da8b666"
      },
      "execution_count": null,
      "outputs": [
        {
          "output_type": "stream",
          "name": "stdout",
          "text": [
            "S\n",
            "h\n",
            "i\n",
            "v\n",
            "a\n",
            "m\n"
          ]
        }
      ]
    },
    {
      "cell_type": "code",
      "source": [
        "for i in range(5):\n",
        "  print(i)"
      ],
      "metadata": {
        "colab": {
          "base_uri": "https://localhost:8080/"
        },
        "id": "fBILegzXwl8o",
        "outputId": "779f36ad-228c-4590-a9ba-de650e466f8b"
      },
      "execution_count": null,
      "outputs": [
        {
          "output_type": "stream",
          "name": "stdout",
          "text": [
            "0\n",
            "1\n",
            "2\n",
            "3\n",
            "4\n"
          ]
        }
      ]
    },
    {
      "cell_type": "code",
      "source": [
        "#if you want to print the range from 2, not from initial by using for loop\n",
        "for i in range(2,5):\n",
        "  print(i)"
      ],
      "metadata": {
        "colab": {
          "base_uri": "https://localhost:8080/"
        },
        "id": "QB_epSdzxXt_",
        "outputId": "fdcfc1bf-3d83-4869-bd0d-9acc6cf394b6"
      },
      "execution_count": null,
      "outputs": [
        {
          "output_type": "stream",
          "name": "stdout",
          "text": [
            "2\n",
            "3\n",
            "4\n"
          ]
        }
      ]
    },
    {
      "cell_type": "code",
      "source": [
        "student = [\"anurag\",\"sunil\",\"tanush\"]\n",
        "for i in student:\n",
        "  if i == \"sunil\":\n",
        "    break\n",
        "  print(i)"
      ],
      "metadata": {
        "colab": {
          "base_uri": "https://localhost:8080/"
        },
        "id": "KepH7Pirx2w7",
        "outputId": "60230bb6-8f13-4653-c1df-162e3b4d47b3"
      },
      "execution_count": null,
      "outputs": [
        {
          "output_type": "stream",
          "name": "stdout",
          "text": [
            "anurag\n"
          ]
        }
      ]
    },
    {
      "cell_type": "code",
      "source": [
        "for i in range(1,11,2):\n",
        "  print(i)\n"
      ],
      "metadata": {
        "colab": {
          "base_uri": "https://localhost:8080/"
        },
        "id": "thF80JSaynWw",
        "outputId": "d40ef3a5-6940-4e58-da01-33348edd904c"
      },
      "execution_count": null,
      "outputs": [
        {
          "output_type": "stream",
          "name": "stdout",
          "text": [
            "1\n",
            "3\n",
            "5\n",
            "7\n",
            "9\n"
          ]
        }
      ]
    },
    {
      "cell_type": "code",
      "source": [
        "#Nested for loop\n",
        "student = [\"anurag\",\"sunil\",\"tanush\"]\n",
        "color = [\"red\",\"blue\",\"green\"]\n",
        "\n",
        "for i in student:\n",
        "  for j in color:\n",
        "    print(i,j)"
      ],
      "metadata": {
        "colab": {
          "base_uri": "https://localhost:8080/"
        },
        "id": "XNuYIa1_2vu6",
        "outputId": "85ab9e8f-f098-46b6-dd88-5998420da3f6"
      },
      "execution_count": null,
      "outputs": [
        {
          "output_type": "stream",
          "name": "stdout",
          "text": [
            "anurag red\n",
            "anurag blue\n",
            "anurag green\n",
            "sunil red\n",
            "sunil blue\n",
            "sunil green\n",
            "tanush red\n",
            "tanush blue\n",
            "tanush green\n"
          ]
        }
      ]
    },
    {
      "cell_type": "code",
      "source": [
        "#Nested for loop another practice\n",
        "number_of_students = [\"2\",\"45\",\"567\",\"56\"]\n",
        "words = [\"ram\",\"shyam\",\"tanu\",\"yash\"]\n",
        "\n",
        "for i in number_of_students:\n",
        "  for j in words:\n",
        "    print(i,j)"
      ],
      "metadata": {
        "colab": {
          "base_uri": "https://localhost:8080/"
        },
        "id": "B-h3yLhZ5EcF",
        "outputId": "516e91bc-7c5b-4c13-c661-72a3502b8edc"
      },
      "execution_count": null,
      "outputs": [
        {
          "output_type": "stream",
          "name": "stdout",
          "text": [
            "2 ram\n",
            "2 shyam\n",
            "2 tanu\n",
            "2 yash\n",
            "45 ram\n",
            "45 shyam\n",
            "45 tanu\n",
            "45 yash\n",
            "567 ram\n",
            "567 shyam\n",
            "567 tanu\n",
            "567 yash\n",
            "56 ram\n",
            "56 shyam\n",
            "56 tanu\n",
            "56 yash\n"
          ]
        }
      ]
    },
    {
      "cell_type": "code",
      "source": [
        "i = 1\n",
        "while i<5:\n",
        "  j = 2\n",
        "  while j <= 10:\n",
        "    print(i*j)\n",
        "    j = j+1\n",
        "  i = i+1\n",
        "  print(\"\\n\")"
      ],
      "metadata": {
        "colab": {
          "base_uri": "https://localhost:8080/"
        },
        "id": "aN4MCm0F836_",
        "outputId": "8302844f-5c12-4482-b3fb-6014b37742a2"
      },
      "execution_count": null,
      "outputs": [
        {
          "output_type": "stream",
          "name": "stdout",
          "text": [
            "2\n",
            "3\n",
            "4\n",
            "5\n",
            "6\n",
            "7\n",
            "8\n",
            "9\n",
            "10\n",
            "\n",
            "\n",
            "4\n",
            "6\n",
            "8\n",
            "10\n",
            "12\n",
            "14\n",
            "16\n",
            "18\n",
            "20\n",
            "\n",
            "\n",
            "6\n",
            "9\n",
            "12\n",
            "15\n",
            "18\n",
            "21\n",
            "24\n",
            "27\n",
            "30\n",
            "\n",
            "\n",
            "8\n",
            "12\n",
            "16\n",
            "20\n",
            "24\n",
            "28\n",
            "32\n",
            "36\n",
            "40\n",
            "\n",
            "\n"
          ]
        }
      ]
    },
    {
      "cell_type": "code",
      "source": [
        "n = int(input(\"Enter the number\"))\n",
        "for i in range (0, n):\n",
        "  for j in range (0, i+1):\n",
        "    print(\"*\", end= \"\")\n",
        "  print()\n",
        "\n",
        "\n"
      ],
      "metadata": {
        "colab": {
          "base_uri": "https://localhost:8080/"
        },
        "id": "A6E8G47dOEtD",
        "outputId": "a6bf4087-8e04-476e-83e0-3e4b0c63a134"
      },
      "execution_count": null,
      "outputs": [
        {
          "output_type": "stream",
          "name": "stdout",
          "text": [
            "Enter the number5\n",
            "*\n",
            "**\n",
            "***\n",
            "****\n",
            "*****\n"
          ]
        }
      ]
    },
    {
      "cell_type": "code",
      "source": [
        "import random\n",
        "li = []\n",
        "for i in range (0,5):\n",
        "  n = random.randint(1,10)\n",
        "  li.append(n)\n",
        "print(li)"
      ],
      "metadata": {
        "colab": {
          "base_uri": "https://localhost:8080/"
        },
        "id": "fjMjJg40TlOT",
        "outputId": "5387e499-3d5c-4e63-9723-5aac150277b5"
      },
      "execution_count": null,
      "outputs": [
        {
          "output_type": "stream",
          "name": "stdout",
          "text": [
            "[3, 8, 8, 5, 2]\n"
          ]
        }
      ]
    },
    {
      "cell_type": "code",
      "source": [
        "# isme hamne for loop ka use kar kr ek range liya jisme ek random value ko put kijiye aur output randomly 0 to 9 counting number me hi milega 1 to 20 tak \n",
        "li = []\n",
        "for i in range(0,9):\n",
        "  n = random.randint(1,20)\n",
        "  li.append(n)\n",
        "print(li)"
      ],
      "metadata": {
        "colab": {
          "base_uri": "https://localhost:8080/"
        },
        "id": "JH55l4zsU2GE",
        "outputId": "2ef373b6-e16a-404f-9930-b545c4298b79"
      },
      "execution_count": null,
      "outputs": [
        {
          "output_type": "stream",
          "name": "stdout",
          "text": [
            "[3, 9, 2, 17, 9, 16, 14, 16, 18]\n"
          ]
        }
      ]
    },
    {
      "cell_type": "code",
      "source": [
        "#Another Data Type: Tuple [ Tuple is a data type which is unchanged and ordered.]\n",
        "#Ordered & Unchangeable\n",
        "a = (\"anurag\",\"sunil\",\"shivam\")\n",
        "print(type(a))\n",
        "print(len(a))\n",
        "print(a)\n",
        "print(a[1])\n"
      ],
      "metadata": {
        "colab": {
          "base_uri": "https://localhost:8080/"
        },
        "id": "xOwVnKjkWWh5",
        "outputId": "74d1dcb3-d2f8-4454-cdf0-94655058aef4"
      },
      "execution_count": null,
      "outputs": [
        {
          "output_type": "stream",
          "name": "stdout",
          "text": [
            "<class 'tuple'>\n",
            "3\n",
            "('anurag', 'sunil', 'shivam')\n",
            "sunil\n"
          ]
        }
      ]
    },
    {
      "cell_type": "code",
      "source": [
        "a = (\"anurag\",\"sunil\",\"shivam\")\n",
        "if \"anurag\" in a:\n",
        " print(\"yes it is present\")"
      ],
      "metadata": {
        "colab": {
          "base_uri": "https://localhost:8080/"
        },
        "id": "WUl0aIWBZX1e",
        "outputId": "b15a43a0-5a0c-47db-eb64-71c6cdee914c"
      },
      "execution_count": null,
      "outputs": [
        {
          "output_type": "stream",
          "name": "stdout",
          "text": [
            "yes it is present\n"
          ]
        }
      ]
    },
    {
      "cell_type": "code",
      "source": [
        "#if you want to add something in tuple in the place of any data items ,this code is apply to change it\n",
        "a = (\"anurag\",\"sunil\",\"shivam\")\n",
        "b = list(a)\n",
        "b[1] = \"ambi\"\n",
        "a = tuple(b)\n",
        "print(a)"
      ],
      "metadata": {
        "colab": {
          "base_uri": "https://localhost:8080/"
        },
        "id": "LxIroxeFaqCk",
        "outputId": "c5a9a28c-6e04-470f-bd3c-4545e92ab3fd"
      },
      "execution_count": null,
      "outputs": [
        {
          "output_type": "stream",
          "name": "stdout",
          "text": [
            "('anurag', 'ambi', 'shivam')\n"
          ]
        }
      ]
    },
    {
      "cell_type": "code",
      "source": [
        "# Now if you want to add something in tuple without replacing any data items ...in simple external add\n",
        "a = (\"anurag\",\"sunil\",\"shivam\")\n",
        "b = (1,2,3)\n",
        "c = a + b\n",
        "print(c)"
      ],
      "metadata": {
        "colab": {
          "base_uri": "https://localhost:8080/"
        },
        "id": "J1N7f_4Xbpsv",
        "outputId": "b2ba8493-01a8-45c8-958e-491f30b0783b"
      },
      "execution_count": null,
      "outputs": [
        {
          "output_type": "stream",
          "name": "stdout",
          "text": [
            "('anurag', 'sunil', 'shivam', 1, 2, 3)\n"
          ]
        }
      ]
    },
    {
      "cell_type": "code",
      "source": [
        "#Another data type: Set \n",
        "#Unordered & unchangeable\n",
        "a = {\"anurag\",\"sunil\",\"shivam\"}\n",
        "print(a)"
      ],
      "metadata": {
        "colab": {
          "base_uri": "https://localhost:8080/"
        },
        "id": "XB41pnRQct8O",
        "outputId": "a367dd7a-bf11-430c-dfdf-3d703ec26566"
      },
      "execution_count": null,
      "outputs": [
        {
          "output_type": "stream",
          "name": "stdout",
          "text": [
            "{'anurag', 'shivam', 'sunil'}\n"
          ]
        }
      ]
    },
    {
      "cell_type": "code",
      "source": [
        "#Another data type: Set .\n",
        "#Unordered & unchangeable.\n",
        "#a.add is used to direct add in set data type .\n",
        "a = {\"anurag\",\"sunil\",\"shivam\"}\n",
        "a.add(\"ambi\")\n",
        "print(a)\n",
        "print(type(a))"
      ],
      "metadata": {
        "colab": {
          "base_uri": "https://localhost:8080/"
        },
        "id": "z1UFcRl4d_gY",
        "outputId": "83f57c82-8f7e-426c-9f44-c812b058d435"
      },
      "execution_count": null,
      "outputs": [
        {
          "output_type": "stream",
          "name": "stdout",
          "text": [
            "{'anurag', 'shivam', 'sunil', 'ambi'}\n",
            "<class 'set'>\n"
          ]
        }
      ]
    },
    {
      "cell_type": "code",
      "source": [
        "#Another data type ; Set.\n",
        "#if you want to add two set data type.\n",
        "a = {\"anurag\",\"sunil\",\"shivam\"}\n",
        "b = {1,2,3}\n",
        "c = a.union(b)\n",
        "print(c)"
      ],
      "metadata": {
        "colab": {
          "base_uri": "https://localhost:8080/"
        },
        "id": "HVY9T5fse9O0",
        "outputId": "e420d092-2bf6-4176-c370-fbd5263ce744"
      },
      "execution_count": null,
      "outputs": [
        {
          "output_type": "stream",
          "name": "stdout",
          "text": [
            "{1, 2, 3, 'anurag', 'shivam', 'sunil'}\n"
          ]
        }
      ]
    },
    {
      "cell_type": "code",
      "source": [
        "#Another data type: Dictionary\n",
        "#ordered & changeable\n",
        "a = {\n",
        "    \"name\": \"anurag\",\n",
        "    \"company\": \"cipherschools\",\n",
        "    \"college\": \"Lovely Professional University\"\n",
        "}\n",
        "print(a)\n",
        "print(a[\"name\"])\n"
      ],
      "metadata": {
        "colab": {
          "base_uri": "https://localhost:8080/"
        },
        "id": "66IvRd-dfto4",
        "outputId": "8f7dd42e-2fbe-4684-899d-0a3729ea28a6"
      },
      "execution_count": null,
      "outputs": [
        {
          "output_type": "stream",
          "name": "stdout",
          "text": [
            "{'name': 'anurag', 'company': 'cipherschools', 'college': 'Lovely Professional University'}\n",
            "anurag\n"
          ]
        }
      ]
    },
    {
      "cell_type": "code",
      "source": [
        "#Here we can check true or false in dictionary data type. \n",
        "a = {\n",
        "    \"name\": \"anurag\",\n",
        "    \"company\": \"cipherschools\",\n",
        "    \"college\": \"Lovely Professional University\"\n",
        "}\n",
        "if \"Duniya\" in a:\n",
        "  print(\"Yes it exits\")\n",
        "else:\n",
        "  print(\"it is not exits\")"
      ],
      "metadata": {
        "colab": {
          "base_uri": "https://localhost:8080/"
        },
        "id": "mfTpiJKti7tQ",
        "outputId": "92270e7f-bd38-41a1-a100-d0ab7dac6368"
      },
      "execution_count": null,
      "outputs": [
        {
          "output_type": "stream",
          "name": "stdout",
          "text": [
            "it is not exits\n"
          ]
        }
      ]
    },
    {
      "cell_type": "code",
      "source": [
        "def pr():\n",
        "  print(\"Hi I am being clled by user defined function pr\")\n",
        "\n",
        "pr()"
      ],
      "metadata": {
        "colab": {
          "base_uri": "https://localhost:8080/"
        },
        "id": "XLPUAo56zlNw",
        "outputId": "08ceedd6-f10f-4af8-eab1-0f9746bec781"
      },
      "execution_count": null,
      "outputs": [
        {
          "output_type": "stream",
          "name": "stdout",
          "text": [
            "Hi I am being clled by user defined function pr\n"
          ]
        }
      ]
    },
    {
      "cell_type": "code",
      "source": [
        "def pr(name):\n",
        "  print(name + \"cipher\")\n",
        "\n",
        "pr(\"Anurag\")"
      ],
      "metadata": {
        "colab": {
          "base_uri": "https://localhost:8080/"
        },
        "id": "ujFzBtOm1zKM",
        "outputId": "b71e69ea-0d0f-4a12-f37a-95762da77289"
      },
      "execution_count": null,
      "outputs": [
        {
          "output_type": "stream",
          "name": "stdout",
          "text": [
            "Anuragcipher\n"
          ]
        }
      ]
    },
    {
      "cell_type": "code",
      "source": [
        "def pr(First_name, last_name):\n",
        "  print(First_name + \" \" + last_name)\n",
        "\n",
        "pr(\"cipher\" , \"school\")\n"
      ],
      "metadata": {
        "colab": {
          "base_uri": "https://localhost:8080/"
        },
        "id": "3fnlMrMy4sMk",
        "outputId": "0671f86b-6cf6-4abf-820c-8e8e82fe8318"
      },
      "execution_count": null,
      "outputs": [
        {
          "output_type": "stream",
          "name": "stdout",
          "text": [
            "cipher school\n"
          ]
        }
      ]
    },
    {
      "cell_type": "code",
      "source": [
        "# we use '*' incase of arbitary numbers i.e when your number of arguments are not sure.\n",
        "def pr(*name):\n",
        "  print(\"My name is \" + name[1])\n",
        "pr(\"Anurag\", \"Cipher\", \"Schools\")"
      ],
      "metadata": {
        "colab": {
          "base_uri": "https://localhost:8080/"
        },
        "id": "zaAeo2Nz6mmL",
        "outputId": "46e3e6b1-9029-4e04-c2dc-3cc0bdb7cfdf"
      },
      "execution_count": null,
      "outputs": [
        {
          "output_type": "stream",
          "name": "stdout",
          "text": [
            "My name is Cipher\n"
          ]
        }
      ]
    },
    {
      "cell_type": "code",
      "source": [
        "def pr(name1, name2, name3):\n",
        "  print(\"My name is \"+ name2)\n",
        "pr(name1 = \"Anurag\", name2 =\"cipher\", name3 =\"schools\")"
      ],
      "metadata": {
        "colab": {
          "base_uri": "https://localhost:8080/"
        },
        "id": "0qIK09_D7wlA",
        "outputId": "927c126f-a84c-442f-93a7-2ff0ea6eda89"
      },
      "execution_count": null,
      "outputs": [
        {
          "output_type": "stream",
          "name": "stdout",
          "text": [
            "My name is cipher\n"
          ]
        }
      ]
    },
    {
      "cell_type": "code",
      "source": [
        "def pr(name):\n",
        "  for i in name:\n",
        "    print(name)\n",
        "name = [\"Anurag\", \"cipher\", \"schools\"]\n",
        "pr(name)"
      ],
      "metadata": {
        "colab": {
          "base_uri": "https://localhost:8080/"
        },
        "id": "4mrp4QGS8zoG",
        "outputId": "99521a2d-596a-4cd4-efa1-fdd5c037e004"
      },
      "execution_count": null,
      "outputs": [
        {
          "output_type": "stream",
          "name": "stdout",
          "text": [
            "['Anurag', 'cipher', 'schools']\n",
            "['Anurag', 'cipher', 'schools']\n",
            "['Anurag', 'cipher', 'schools']\n"
          ]
        }
      ]
    },
    {
      "cell_type": "code",
      "source": [
        "def pr(n):\n",
        "  return 5 * n\n",
        "pr(4)"
      ],
      "metadata": {
        "colab": {
          "base_uri": "https://localhost:8080/"
        },
        "id": "_DK_wt95-8m-",
        "outputId": "5bd0f8c8-30b9-4354-b8f2-c9f5e1eff60e"
      },
      "execution_count": null,
      "outputs": [
        {
          "output_type": "execute_result",
          "data": {
            "text/plain": [
              "20"
            ]
          },
          "metadata": {},
          "execution_count": 19
        }
      ]
    },
    {
      "cell_type": "code",
      "source": [],
      "metadata": {
        "id": "0tnPfbfxiPKe"
      },
      "execution_count": null,
      "outputs": []
    },
    {
      "cell_type": "code",
      "source": [
        "#Recursion on Factorial. Definition Recursion- when a function is calling itself again and again. \n",
        "def factorial(n):\n",
        "  if n == 1:\n",
        "    return 1\n",
        "  else:\n",
        "    return (n * factorial(n-1))\n",
        "\n",
        "factorial(4)"
      ],
      "metadata": {
        "colab": {
          "base_uri": "https://localhost:8080/"
        },
        "id": "GIPmxbcTUxUd",
        "outputId": "266af6eb-ab69-4b67-ef83-4a697abcb80d"
      },
      "execution_count": null,
      "outputs": [
        {
          "output_type": "execute_result",
          "data": {
            "text/plain": [
              "24"
            ]
          },
          "metadata": {},
          "execution_count": 2
        }
      ]
    },
    {
      "cell_type": "code",
      "source": [
        "def sum(n):\n",
        "  if n<=1:\n",
        "    return n\n",
        "  else:\n",
        "    return n + sum(n-1)\n",
        "n = 5\n",
        "sum(5)"
      ],
      "metadata": {
        "colab": {
          "base_uri": "https://localhost:8080/"
        },
        "id": "NUaq0HFMckZe",
        "outputId": "295de48e-af73-4747-e04a-255a5b3445cf"
      },
      "execution_count": null,
      "outputs": [
        {
          "output_type": "execute_result",
          "data": {
            "text/plain": [
              "15"
            ]
          },
          "metadata": {},
          "execution_count": 4
        }
      ]
    },
    {
      "cell_type": "code",
      "source": [
        "a=int(input(\"Enter a number\"))\n",
        "if a%2==0:\n",
        "  print(\"even\")\n",
        "else:\n",
        "  print(\"odd\")"
      ],
      "metadata": {
        "colab": {
          "base_uri": "https://localhost:8080/"
        },
        "id": "Fl04vdCr2R-h",
        "outputId": "faf30825-ebc3-4189-8abb-859d0fe6436b"
      },
      "execution_count": null,
      "outputs": [
        {
          "output_type": "stream",
          "name": "stdout",
          "text": [
            "Enter a number5\n",
            "odd\n"
          ]
        }
      ]
    },
    {
      "cell_type": "code",
      "source": [
        "#Prime number: A number divisible by 1 and itself only\n",
        "num = int(input(\"Enter the number\"))\n",
        "count = 0\n",
        "i = 1\n",
        "while i <= num:\n",
        "  if num % i == 0:\n",
        "    count = count + 1\n",
        "  i=i+1\n",
        "if count == 2:\n",
        "  print(\"Is prime\")\n",
        "else:\n",
        "  print(\"Not a prime\")\n",
        "\n"
      ],
      "metadata": {
        "colab": {
          "base_uri": "https://localhost:8080/"
        },
        "id": "IbHbNi7P3BgC",
        "outputId": "499b3306-dcd4-489b-c0f9-c92ddcc817df"
      },
      "execution_count": null,
      "outputs": [
        {
          "output_type": "stream",
          "name": "stdout",
          "text": [
            "Enter the number5\n",
            "Is prime\n"
          ]
        }
      ]
    },
    {
      "cell_type": "code",
      "source": [
        "#another way to make prime number \n",
        "num = int(input(\"Enter the number\"))\n",
        "count = 0\n",
        "i = 2\n",
        "while i <= (num-1):\n",
        "  if num % i == 0:\n",
        "    count = count + 1\n",
        "  i=i+1\n",
        "if count == 0:\n",
        "  print(\"Is prime\")\n",
        "else:\n",
        "  print(\"Not a prime\")"
      ],
      "metadata": {
        "id": "06Sjn4yHVeZX"
      },
      "execution_count": null,
      "outputs": []
    },
    {
      "cell_type": "code",
      "source": [
        "a = \"Anurag\" #Global variable\n",
        "\n",
        "def pr():\n",
        "  a = \"Cipher\"\n",
        "\n",
        "print(a)\n"
      ],
      "metadata": {
        "colab": {
          "base_uri": "https://localhost:8080/"
        },
        "id": "l1AiA5M-b9AK",
        "outputId": "842e9ec0-c74c-4f36-bfa5-d4410fa29a53"
      },
      "execution_count": null,
      "outputs": [
        {
          "output_type": "stream",
          "name": "stdout",
          "text": [
            "Anurag\n"
          ]
        }
      ]
    },
    {
      "cell_type": "code",
      "source": [
        "palindrome\n",
        "armstrong\n",
        "#ek list me user se input lena hai and usse ascending order me printkarna hai"
      ],
      "metadata": {
        "id": "OoKTESGkeoEa"
      },
      "execution_count": null,
      "outputs": []
    },
    {
      "cell_type": "code",
      "source": [
        "# python 3 program find the maximum number of pieces\n",
        "# By given number of cuts\n",
        "\n",
        "# Function for finding Maximum Pieces\n",
        "# With n Cuts\n",
        "\n",
        "def findMaximumPieces(n):\n",
        "\n",
        "  # To maximum no of pieces\n",
        "  # X is the horizontal cuts\n",
        "\n",
        "  x = n // 2\n",
        "\n",
        "  # Now (x) is the horizontal cuts\n",
        "  # and (n-x) is vertical cuts, then\n",
        "  # Maximum number of pieces = (x+1)*(n-x+1)\n",
        "\n",
        "  return ((x+1) * (n - x + 1))\n",
        "\n",
        "# Driver code\n",
        "if __name__ == \"__main__\":\n",
        "\n",
        "  # Taking a maximum number of cuts allowed as 3\n",
        "  n = 3\n",
        "\n",
        "  # Finding and Printing the Maximum number of Pieces\n",
        "  print(\"Max number of pieces for n = \" +str( n) +\" is \" + str(findMaximumPieces(3)))"
      ],
      "metadata": {
        "colab": {
          "base_uri": "https://localhost:8080/"
        },
        "id": "ZMP1uN8FA-6u",
        "outputId": "8d49f5b8-8af2-4a41-875c-403d2059f2e1"
      },
      "execution_count": null,
      "outputs": [
        {
          "output_type": "stream",
          "name": "stdout",
          "text": [
            "Max number of pieces for n = 3 is 6\n"
          ]
        }
      ]
    }
  ]
}